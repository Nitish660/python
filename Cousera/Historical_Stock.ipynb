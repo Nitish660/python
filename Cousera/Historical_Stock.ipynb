{
 "cells": [
  {
   "cell_type": "code",
   "execution_count": 9,
   "id": "55d27cea",
   "metadata": {},
   "outputs": [
    {
     "name": "stdout",
     "output_type": "stream",
     "text": [
      "Requirement already satisfied: yfinance==0.1.67 in /Users/nitishsah/opt/anaconda3/lib/python3.9/site-packages (0.1.67)\n",
      "Requirement already satisfied: requests>=2.20 in /Users/nitishsah/opt/anaconda3/lib/python3.9/site-packages (from yfinance==0.1.67) (2.28.1)\n",
      "Requirement already satisfied: pandas>=0.24 in /Users/nitishsah/opt/anaconda3/lib/python3.9/site-packages (from yfinance==0.1.67) (1.4.4)\n",
      "Requirement already satisfied: numpy>=1.15 in /Users/nitishsah/opt/anaconda3/lib/python3.9/site-packages (from yfinance==0.1.67) (1.24.4)\n",
      "Requirement already satisfied: lxml>=4.5.1 in /Users/nitishsah/opt/anaconda3/lib/python3.9/site-packages (from yfinance==0.1.67) (4.6.4)\n",
      "Requirement already satisfied: multitasking>=0.0.7 in /Users/nitishsah/opt/anaconda3/lib/python3.9/site-packages (from yfinance==0.1.67) (0.0.11)\n",
      "Requirement already satisfied: python-dateutil>=2.8.1 in /Users/nitishsah/opt/anaconda3/lib/python3.9/site-packages (from pandas>=0.24->yfinance==0.1.67) (2.8.2)\n",
      "Requirement already satisfied: pytz>=2020.1 in /Users/nitishsah/opt/anaconda3/lib/python3.9/site-packages (from pandas>=0.24->yfinance==0.1.67) (2023.3)\n",
      "Requirement already satisfied: certifi>=2017.4.17 in /Users/nitishsah/opt/anaconda3/lib/python3.9/site-packages (from requests>=2.20->yfinance==0.1.67) (2022.9.24)\n",
      "Requirement already satisfied: idna<4,>=2.5 in /Users/nitishsah/opt/anaconda3/lib/python3.9/site-packages (from requests>=2.20->yfinance==0.1.67) (3.3)\n",
      "Requirement already satisfied: urllib3<1.27,>=1.21.1 in /Users/nitishsah/opt/anaconda3/lib/python3.9/site-packages (from requests>=2.20->yfinance==0.1.67) (1.26.11)\n",
      "Requirement already satisfied: charset-normalizer<3,>=2 in /Users/nitishsah/opt/anaconda3/lib/python3.9/site-packages (from requests>=2.20->yfinance==0.1.67) (2.0.4)\n",
      "Requirement already satisfied: six>=1.5 in /Users/nitishsah/opt/anaconda3/lib/python3.9/site-packages (from python-dateutil>=2.8.1->pandas>=0.24->yfinance==0.1.67) (1.16.0)\n",
      "\u001b[33mWARNING: Error parsing requirements for panel: [Errno 2] No such file or directory: '/Users/nitishsah/opt/anaconda3/lib/python3.9/site-packages/panel-0.13.1.dist-info/METADATA'\u001b[0m\u001b[33m\n",
      "\u001b[0m\u001b[31mERROR: Could not find a version that satisfies the requirement bs4==4.10.0 (from versions: 0.0.0, 0.0.1)\u001b[0m\u001b[31m\n",
      "\u001b[0m\u001b[31mERROR: No matching distribution found for bs4==4.10.0\u001b[0m\u001b[31m\n",
      "\u001b[0mRequirement already satisfied: nbformat==4.2.0 in /Users/nitishsah/opt/anaconda3/lib/python3.9/site-packages (4.2.0)\n",
      "Requirement already satisfied: jupyter-core in /Users/nitishsah/opt/anaconda3/lib/python3.9/site-packages (from nbformat==4.2.0) (4.11.1)\n",
      "Requirement already satisfied: jsonschema!=2.5.0,>=2.4 in /Users/nitishsah/opt/anaconda3/lib/python3.9/site-packages (from nbformat==4.2.0) (4.16.0)\n",
      "Requirement already satisfied: traitlets>=4.1 in /Users/nitishsah/opt/anaconda3/lib/python3.9/site-packages (from nbformat==4.2.0) (5.1.1)\n",
      "Requirement already satisfied: ipython-genutils in /Users/nitishsah/opt/anaconda3/lib/python3.9/site-packages (from nbformat==4.2.0) (0.2.0)\n",
      "Requirement already satisfied: pyrsistent!=0.17.0,!=0.17.1,!=0.17.2,>=0.14.0 in /Users/nitishsah/opt/anaconda3/lib/python3.9/site-packages (from jsonschema!=2.5.0,>=2.4->nbformat==4.2.0) (0.18.0)\n",
      "Requirement already satisfied: attrs>=17.4.0 in /Users/nitishsah/opt/anaconda3/lib/python3.9/site-packages (from jsonschema!=2.5.0,>=2.4->nbformat==4.2.0) (21.4.0)\n",
      "\u001b[33mWARNING: Error parsing requirements for panel: [Errno 2] No such file or directory: '/Users/nitishsah/opt/anaconda3/lib/python3.9/site-packages/panel-0.13.1.dist-info/METADATA'\u001b[0m\u001b[33m\n",
      "\u001b[0m"
     ]
    }
   ],
   "source": [
    "# Install required packages (if not already installed)\n",
    "!pip install yfinance==0.1.67\n",
    "!pip install bs4==4.10.0\n",
    "!pip install nbformat==4.2.0"
   ]
  },
  {
   "cell_type": "code",
   "execution_count": 10,
   "id": "9e955166",
   "metadata": {},
   "outputs": [],
   "source": [
    "import yfinance as yf\n",
    "import pandas as pd\n",
    "import requests\n",
    "from bs4 import BeautifulSoup\n",
    "import plotly.graph_objects as go\n",
    "from plotly.subplots import make_subplots"
   ]
  },
  {
   "cell_type": "code",
   "execution_count": 13,
   "id": "0756810e",
   "metadata": {},
   "outputs": [],
   "source": [
    "# Define Graphing Function\n",
    "def make_graph(stock_data, revenue_data, stock):\n",
    "    fig = make_subplots(rows=2, cols=1, shared_xaxes=True, subplot_titles=(\"Historical Share Price\", \"Historical Revenue\"), vertical_spacing = .3)\n",
    "    stock_data_specific = stock_data[stock_data.Date <= '2021-06-14']\n",
    "    revenue_data_specific = revenue_data[revenue_data.Date <= '2021-04-30']\n",
    "    fig.add_trace(go.Scatter(x=pd.to_datetime(stock_data_specific.Date, infer_datetime_format=True), y=stock_data_specific.Close.astype(\"float\"), name=\"Share Price\"), row=1, col=1)\n",
    "    fig.add_trace(go.Scatter(x=pd.to_datetime(revenue_data_specific.Date, infer_datetime_format=True), y=revenue_data_specific.Revenue.astype(\"float\"), name=\"Revenue\"), row=2, col=1)\n",
    "    fig.update_xaxes(title_text=\"Date\", row=1, col=1)\n",
    "    fig.update_xaxes(title_text=\"Date\", row=2, col=1)\n",
    "    fig.update_yaxes(title_text=\"Price ($US)\", row=1, col=1)\n",
    "    fig.update_yaxes(title_text=\"Revenue ($US Millions)\", row=2, col=1)\n",
    "    fig.update_layout(showlegend=False,\n",
    "                      height=900,\n",
    "                      title=stock,\n",
    "                      xaxis_rangeslider_visible=True)\n",
    "    fig.show()"
   ]
  },
  {
   "cell_type": "code",
   "execution_count": 14,
   "id": "1986262a",
   "metadata": {},
   "outputs": [
    {
     "name": "stdout",
     "output_type": "stream",
     "text": [
      "Requirement already satisfied: yfinance in /Users/nitishsah/opt/anaconda3/lib/python3.9/site-packages (0.1.67)\n",
      "Collecting yfinance\n",
      "  Downloading yfinance-0.2.28-py2.py3-none-any.whl (65 kB)\n",
      "\u001b[2K     \u001b[90m━━━━━━━━━━━━━━━━━━━━━━━━━━━━━━━━━━━━━━━\u001b[0m \u001b[32m65.3/65.3 kB\u001b[0m \u001b[31m431.3 kB/s\u001b[0m eta \u001b[36m0:00:00\u001b[0ma \u001b[36m0:00:01\u001b[0m\n",
      "\u001b[?25hRequirement already satisfied: appdirs>=1.4.4 in /Users/nitishsah/opt/anaconda3/lib/python3.9/site-packages (from yfinance) (1.4.4)\n",
      "Requirement already satisfied: pandas>=1.3.0 in /Users/nitishsah/opt/anaconda3/lib/python3.9/site-packages (from yfinance) (1.4.4)\n",
      "Collecting lxml>=4.9.1\n",
      "  Using cached lxml-4.9.3-cp39-cp39-macosx_10_9_x86_64.whl\n",
      "Requirement already satisfied: numpy>=1.16.5 in /Users/nitishsah/opt/anaconda3/lib/python3.9/site-packages (from yfinance) (1.24.4)\n",
      "Requirement already satisfied: multitasking>=0.0.7 in /Users/nitishsah/opt/anaconda3/lib/python3.9/site-packages (from yfinance) (0.0.11)\n",
      "Requirement already satisfied: beautifulsoup4>=4.11.1 in /Users/nitishsah/opt/anaconda3/lib/python3.9/site-packages (from yfinance) (4.11.1)\n",
      "Requirement already satisfied: pytz>=2022.5 in /Users/nitishsah/opt/anaconda3/lib/python3.9/site-packages (from yfinance) (2023.3)\n",
      "Requirement already satisfied: frozendict>=2.3.4 in /Users/nitishsah/opt/anaconda3/lib/python3.9/site-packages (from yfinance) (2.3.8)\n",
      "Collecting requests>=2.31\n",
      "  Downloading requests-2.31.0-py3-none-any.whl (62 kB)\n",
      "\u001b[2K     \u001b[90m━━━━━━━━━━━━━━━━━━━━━━━━━━━━━━━━━━━━━━━\u001b[0m \u001b[32m62.6/62.6 kB\u001b[0m \u001b[31m485.5 kB/s\u001b[0m eta \u001b[36m0:00:00\u001b[0ma \u001b[36m0:00:01\u001b[0m\n",
      "\u001b[?25hRequirement already satisfied: html5lib>=1.1 in /Users/nitishsah/opt/anaconda3/lib/python3.9/site-packages (from yfinance) (1.1)\n",
      "Requirement already satisfied: soupsieve>1.2 in /Users/nitishsah/opt/anaconda3/lib/python3.9/site-packages (from beautifulsoup4>=4.11.1->yfinance) (2.3.1)\n",
      "Requirement already satisfied: webencodings in /Users/nitishsah/opt/anaconda3/lib/python3.9/site-packages (from html5lib>=1.1->yfinance) (0.5.1)\n",
      "Requirement already satisfied: six>=1.9 in /Users/nitishsah/opt/anaconda3/lib/python3.9/site-packages (from html5lib>=1.1->yfinance) (1.16.0)\n",
      "Requirement already satisfied: python-dateutil>=2.8.1 in /Users/nitishsah/opt/anaconda3/lib/python3.9/site-packages (from pandas>=1.3.0->yfinance) (2.8.2)\n",
      "Requirement already satisfied: urllib3<3,>=1.21.1 in /Users/nitishsah/opt/anaconda3/lib/python3.9/site-packages (from requests>=2.31->yfinance) (1.26.11)\n",
      "Requirement already satisfied: idna<4,>=2.5 in /Users/nitishsah/opt/anaconda3/lib/python3.9/site-packages (from requests>=2.31->yfinance) (3.3)\n",
      "Requirement already satisfied: certifi>=2017.4.17 in /Users/nitishsah/opt/anaconda3/lib/python3.9/site-packages (from requests>=2.31->yfinance) (2022.9.24)\n",
      "Requirement already satisfied: charset-normalizer<4,>=2 in /Users/nitishsah/opt/anaconda3/lib/python3.9/site-packages (from requests>=2.31->yfinance) (2.0.4)\n",
      "\u001b[33mWARNING: Error parsing requirements for panel: [Errno 2] No such file or directory: '/Users/nitishsah/opt/anaconda3/lib/python3.9/site-packages/panel-0.13.1.dist-info/METADATA'\u001b[0m\u001b[33m\n",
      "\u001b[0mInstalling collected packages: requests, lxml, yfinance\n",
      "  Attempting uninstall: requests\n",
      "    Found existing installation: requests 2.28.1\n",
      "    Uninstalling requests-2.28.1:\n",
      "      Successfully uninstalled requests-2.28.1\n",
      "  Attempting uninstall: lxml\n",
      "    Found existing installation: lxml 4.6.4\n",
      "    Uninstalling lxml-4.6.4:\n",
      "      Successfully uninstalled lxml-4.6.4\n",
      "  Attempting uninstall: yfinance\n",
      "    Found existing installation: yfinance 0.1.67\n",
      "    Uninstalling yfinance-0.1.67:\n",
      "      Successfully uninstalled yfinance-0.1.67\n",
      "\u001b[31mERROR: pip's dependency resolver does not currently take into account all the packages that are installed. This behaviour is the source of the following dependency conflicts.\n",
      "anaconda-project 0.11.1 requires ruamel-yaml, which is not installed.\n",
      "conda-repo-cli 1.0.20 requires clyent==1.2.1, but you have clyent 1.2.2 which is incompatible.\n",
      "conda-repo-cli 1.0.20 requires nbformat==5.4.0, but you have nbformat 4.2.0 which is incompatible.\n",
      "conda-repo-cli 1.0.20 requires requests==2.28.1, but you have requests 2.31.0 which is incompatible.\n",
      "anaconda-client 1.11.0 requires nbformat>=4.4.0, but you have nbformat 4.2.0 which is incompatible.\u001b[0m\u001b[31m\n",
      "\u001b[0mSuccessfully installed lxml-4.9.3 requests-2.31.0 yfinance-0.2.28\n",
      "Note: you may need to restart the kernel to use updated packages.\n"
     ]
    }
   ],
   "source": [
    "pip install yfinance --upgrade\n"
   ]
  },
  {
   "cell_type": "code",
   "execution_count": 3,
   "id": "8f5b2a38",
   "metadata": {},
   "outputs": [
    {
     "name": "stdout",
     "output_type": "stream",
     "text": [
      "Collecting yfinance==0.1.67\n",
      "  Using cached yfinance-0.1.67-py2.py3-none-any.whl (25 kB)\n",
      "Requirement already satisfied: lxml>=4.5.1 in /Users/nitishsah/opt/anaconda3/lib/python3.9/site-packages (from yfinance==0.1.67) (4.9.3)\n",
      "Requirement already satisfied: multitasking>=0.0.7 in /Users/nitishsah/opt/anaconda3/lib/python3.9/site-packages (from yfinance==0.1.67) (0.0.11)\n",
      "Requirement already satisfied: requests>=2.20 in /Users/nitishsah/opt/anaconda3/lib/python3.9/site-packages (from yfinance==0.1.67) (2.31.0)\n",
      "Requirement already satisfied: numpy>=1.15 in /Users/nitishsah/opt/anaconda3/lib/python3.9/site-packages (from yfinance==0.1.67) (1.24.4)\n",
      "Requirement already satisfied: pandas>=0.24 in /Users/nitishsah/opt/anaconda3/lib/python3.9/site-packages (from yfinance==0.1.67) (1.4.4)\n",
      "Requirement already satisfied: python-dateutil>=2.8.1 in /Users/nitishsah/opt/anaconda3/lib/python3.9/site-packages (from pandas>=0.24->yfinance==0.1.67) (2.8.2)\n",
      "Requirement already satisfied: pytz>=2020.1 in /Users/nitishsah/opt/anaconda3/lib/python3.9/site-packages (from pandas>=0.24->yfinance==0.1.67) (2023.3)\n",
      "Requirement already satisfied: idna<4,>=2.5 in /Users/nitishsah/opt/anaconda3/lib/python3.9/site-packages (from requests>=2.20->yfinance==0.1.67) (3.3)\n",
      "Requirement already satisfied: charset-normalizer<4,>=2 in /Users/nitishsah/opt/anaconda3/lib/python3.9/site-packages (from requests>=2.20->yfinance==0.1.67) (2.0.4)\n",
      "Requirement already satisfied: certifi>=2017.4.17 in /Users/nitishsah/opt/anaconda3/lib/python3.9/site-packages (from requests>=2.20->yfinance==0.1.67) (2022.9.24)\n",
      "Requirement already satisfied: urllib3<3,>=1.21.1 in /Users/nitishsah/opt/anaconda3/lib/python3.9/site-packages (from requests>=2.20->yfinance==0.1.67) (1.26.11)\n",
      "Requirement already satisfied: six>=1.5 in /Users/nitishsah/opt/anaconda3/lib/python3.9/site-packages (from python-dateutil>=2.8.1->pandas>=0.24->yfinance==0.1.67) (1.16.0)\n",
      "\u001b[33mWARNING: Error parsing requirements for panel: [Errno 2] No such file or directory: '/Users/nitishsah/opt/anaconda3/lib/python3.9/site-packages/panel-0.13.1.dist-info/METADATA'\u001b[0m\u001b[33m\n",
      "\u001b[0mInstalling collected packages: yfinance\n",
      "  Attempting uninstall: yfinance\n",
      "    Found existing installation: yfinance 0.2.28\n",
      "    Uninstalling yfinance-0.2.28:\n",
      "      Successfully uninstalled yfinance-0.2.28\n",
      "Successfully installed yfinance-0.1.67\n",
      "\u001b[31mERROR: Could not find a version that satisfies the requirement bs4==4.10.0 (from versions: 0.0.0, 0.0.1)\u001b[0m\u001b[31m\n",
      "\u001b[0m\u001b[31mERROR: No matching distribution found for bs4==4.10.0\u001b[0m\u001b[31m\n",
      "\u001b[0mRequirement already satisfied: nbformat==4.2.0 in /Users/nitishsah/opt/anaconda3/lib/python3.9/site-packages (4.2.0)\n",
      "Requirement already satisfied: ipython-genutils in /Users/nitishsah/opt/anaconda3/lib/python3.9/site-packages (from nbformat==4.2.0) (0.2.0)\n",
      "Requirement already satisfied: traitlets>=4.1 in /Users/nitishsah/opt/anaconda3/lib/python3.9/site-packages (from nbformat==4.2.0) (5.1.1)\n",
      "Requirement already satisfied: jupyter-core in /Users/nitishsah/opt/anaconda3/lib/python3.9/site-packages (from nbformat==4.2.0) (4.11.1)\n",
      "Requirement already satisfied: jsonschema!=2.5.0,>=2.4 in /Users/nitishsah/opt/anaconda3/lib/python3.9/site-packages (from nbformat==4.2.0) (4.16.0)\n",
      "Requirement already satisfied: pyrsistent!=0.17.0,!=0.17.1,!=0.17.2,>=0.14.0 in /Users/nitishsah/opt/anaconda3/lib/python3.9/site-packages (from jsonschema!=2.5.0,>=2.4->nbformat==4.2.0) (0.18.0)\n",
      "Requirement already satisfied: attrs>=17.4.0 in /Users/nitishsah/opt/anaconda3/lib/python3.9/site-packages (from jsonschema!=2.5.0,>=2.4->nbformat==4.2.0) (21.4.0)\n",
      "\u001b[33mWARNING: Error parsing requirements for panel: [Errno 2] No such file or directory: '/Users/nitishsah/opt/anaconda3/lib/python3.9/site-packages/panel-0.13.1.dist-info/METADATA'\u001b[0m\u001b[33m\n",
      "\u001b[0m"
     ]
    }
   ],
   "source": [
    "!pip install yfinance==0.1.67\n",
    "!pip install bs4==4.10.0\n",
    "!pip install nbformat==4.2.0\n"
   ]
  },
  {
   "cell_type": "code",
   "execution_count": 4,
   "id": "d215567b",
   "metadata": {},
   "outputs": [],
   "source": [
    "import yfinance as yf\n",
    "import pandas as pd\n",
    "import requests\n",
    "from bs4 import BeautifulSoup\n",
    "import plotly.graph_objects as go\n",
    "from plotly.subplots import make_subplots"
   ]
  },
  {
   "cell_type": "code",
   "execution_count": null,
   "id": "adcf1a67",
   "metadata": {},
   "outputs": [
    {
     "name": "stderr",
     "output_type": "stream",
     "text": [
      "Exception in thread Thread-5:\n",
      "Traceback (most recent call last):\n",
      "  File \"/Users/nitishsah/opt/anaconda3/lib/python3.9/threading.py\", line 980, in _bootstrap_inner\n",
      "    self.run()\n",
      "  File \"/Users/nitishsah/opt/anaconda3/lib/python3.9/threading.py\", line 917, in run\n",
      "    self._target(*self._args, **self._kwargs)\n",
      "  File \"/Users/nitishsah/opt/anaconda3/lib/python3.9/site-packages/multitasking/__init__.py\", line 104, in _run_via_pool\n",
      "    return callee(*args, **kwargs)\n",
      "  File \"/Users/nitishsah/opt/anaconda3/lib/python3.9/site-packages/yfinance/multi.py\", line 188, in _download_one_threaded\n",
      "    data = _download_one(ticker, start, end, auto_adjust, back_adjust,\n",
      "  File \"/Users/nitishsah/opt/anaconda3/lib/python3.9/site-packages/yfinance/multi.py\", line 202, in _download_one\n",
      "    return Ticker(ticker).history(period=period, interval=interval,\n",
      "  File \"/Users/nitishsah/opt/anaconda3/lib/python3.9/site-packages/yfinance/base.py\", line 279, in history\n",
      "    df.index = df.index.tz_localize(\"UTC\").tz_convert(\n",
      "AttributeError: 'Index' object has no attribute 'tz_localize'\n"
     ]
    }
   ],
   "source": [
    "tesla_data = yf.download(\"TSLA\", period=\"max\")  # Use yf.download instead of tesla_ticker.history\n",
    "tesla_data.reset_index(inplace=True)\n",
    "tesla_data[\"Date\"] = tesla_data[\"Date\"].dt.strftime('%Y-%m-%d')  # Ensure Date is in the right format\n",
    "print(tesla_data.head())"
   ]
  },
  {
   "cell_type": "code",
   "execution_count": null,
   "id": "228bd1b2",
   "metadata": {},
   "outputs": [],
   "source": []
  }
 ],
 "metadata": {
  "kernelspec": {
   "display_name": "Python 3 (ipykernel)",
   "language": "python",
   "name": "python3"
  },
  "language_info": {
   "codemirror_mode": {
    "name": "ipython",
    "version": 3
   },
   "file_extension": ".py",
   "mimetype": "text/x-python",
   "name": "python",
   "nbconvert_exporter": "python",
   "pygments_lexer": "ipython3",
   "version": "3.9.13"
  }
 },
 "nbformat": 4,
 "nbformat_minor": 5
}
