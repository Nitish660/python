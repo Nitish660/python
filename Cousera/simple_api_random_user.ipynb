{
 "cells": [
  {
   "cell_type": "code",
   "execution_count": 1,
   "id": "fbe29a22",
   "metadata": {},
   "outputs": [
    {
     "name": "stdout",
     "output_type": "stream",
     "text": [
      "Collecting randomuser\n",
      "  Downloading randomuser-1.6.tar.gz (5.0 kB)\n",
      "  Preparing metadata (setup.py) ... \u001b[?25ldone\n",
      "\u001b[?25hBuilding wheels for collected packages: randomuser\n",
      "  Building wheel for randomuser (setup.py) ... \u001b[?25ldone\n",
      "\u001b[?25h  Created wheel for randomuser: filename=randomuser-1.6-py3-none-any.whl size=5067 sha256=caeb9e88b610c3ee377ad667270a4666f2110330a33f179c8fdbeb4ab462b0a1\n",
      "  Stored in directory: /Users/nitishsah/Library/Caches/pip/wheels/41/6f/23/878c103a235dc2d4e85a3965c124aae8a28470c541b81aa2ba\n",
      "Successfully built randomuser\n",
      "\u001b[33mWARNING: Error parsing requirements for panel: [Errno 2] No such file or directory: '/Users/nitishsah/opt/anaconda3/lib/python3.9/site-packages/panel-0.13.1.dist-info/METADATA'\u001b[0m\u001b[33m\n",
      "\u001b[0mInstalling collected packages: randomuser\n",
      "Successfully installed randomuser-1.6\n"
     ]
    }
   ],
   "source": [
    "!pip install randomuser"
   ]
  },
  {
   "cell_type": "code",
   "execution_count": 3,
   "id": "bd1777cd",
   "metadata": {},
   "outputs": [],
   "source": [
    "from randomuser import RandomUser"
   ]
  },
  {
   "cell_type": "code",
   "execution_count": 4,
   "id": "bec21883",
   "metadata": {},
   "outputs": [],
   "source": [
    "import pandas as pd"
   ]
  },
  {
   "cell_type": "code",
   "execution_count": 5,
   "id": "4186db86",
   "metadata": {},
   "outputs": [],
   "source": [
    "r =RandomUser()"
   ]
  },
  {
   "cell_type": "code",
   "execution_count": 6,
   "id": "a4677da8",
   "metadata": {},
   "outputs": [
    {
     "name": "stdout",
     "output_type": "stream",
     "text": [
      "<randomuser.RandomUser object at 0x7fc9f07e29a0>\n"
     ]
    }
   ],
   "source": [
    "print(r)"
   ]
  },
  {
   "cell_type": "code",
   "execution_count": 7,
   "id": "adb52339",
   "metadata": {},
   "outputs": [],
   "source": [
    "some_list = r.generate_users(10)"
   ]
  },
  {
   "cell_type": "code",
   "execution_count": 8,
   "id": "c97e6ba7",
   "metadata": {},
   "outputs": [
    {
     "data": {
      "text/plain": [
       "[<randomuser.RandomUser at 0x7fc9f07ca1c0>,\n",
       " <randomuser.RandomUser at 0x7fc9e0688a00>,\n",
       " <randomuser.RandomUser at 0x7fc9f02545b0>,\n",
       " <randomuser.RandomUser at 0x7fc9f0254850>,\n",
       " <randomuser.RandomUser at 0x7fc9f0254100>,\n",
       " <randomuser.RandomUser at 0x7fc9f0254970>,\n",
       " <randomuser.RandomUser at 0x7fca01aa1a30>,\n",
       " <randomuser.RandomUser at 0x7fca01aa1250>,\n",
       " <randomuser.RandomUser at 0x7fca01aa1f70>,\n",
       " <randomuser.RandomUser at 0x7fca01aa1f10>]"
      ]
     },
     "execution_count": 8,
     "metadata": {},
     "output_type": "execute_result"
    }
   ],
   "source": [
    "some_list"
   ]
  },
  {
   "cell_type": "code",
   "execution_count": 9,
   "id": "e25661d1",
   "metadata": {},
   "outputs": [],
   "source": [
    "name = r.get_full_name()"
   ]
  },
  {
   "cell_type": "code",
   "execution_count": 10,
   "id": "d61cf8b1",
   "metadata": {},
   "outputs": [
    {
     "name": "stdout",
     "output_type": "stream",
     "text": [
      "Hazel Steward   hazel.steward@example.com\n",
      "Ethan Cooper   ethan.cooper@example.com\n",
      "Robert Vincent   robert.vincent@example.com\n",
      "Ilan Pierre   ilan.pierre@example.com\n",
      "Luca Davies   luca.davies@example.com\n",
      "Dean Long   dean.long@example.com\n",
      "Fatima Gallego   fatima.gallego@example.com\n",
      "Ena Sturkenboom   ena.sturkenboom@example.com\n",
      "Stephen Steward   stephen.steward@example.com\n",
      "Elsa Vincent   elsa.vincent@example.com\n"
     ]
    }
   ],
   "source": [
    "for user in some_list:\n",
    "    print(user.get_full_name(),\" \",user.get_email())"
   ]
  },
  {
   "cell_type": "code",
   "execution_count": 14,
   "id": "62b5e74a",
   "metadata": {},
   "outputs": [
    {
     "name": "stdout",
     "output_type": "stream",
     "text": [
      "https://randomuser.me/api/portraits/women/54.jpg\n",
      "https://randomuser.me/api/portraits/men/31.jpg\n",
      "https://randomuser.me/api/portraits/men/70.jpg\n",
      "https://randomuser.me/api/portraits/men/96.jpg\n",
      "https://randomuser.me/api/portraits/men/61.jpg\n",
      "https://randomuser.me/api/portraits/men/39.jpg\n",
      "https://randomuser.me/api/portraits/women/87.jpg\n",
      "https://randomuser.me/api/portraits/women/61.jpg\n",
      "https://randomuser.me/api/portraits/men/48.jpg\n",
      "https://randomuser.me/api/portraits/women/95.jpg\n"
     ]
    }
   ],
   "source": [
    "for user in some_list:\n",
    "    print (user.get_picture())"
   ]
  },
  {
   "cell_type": "code",
   "execution_count": 16,
   "id": "7ff3cff6",
   "metadata": {},
   "outputs": [],
   "source": [
    "def get_users():\n",
    "    users=[]\n",
    "    \n",
    "    for users in RandomUser.generate.users(10):\n",
    "        users.append({\n",
    "            \"Name\":user.get.full_name(),\n",
    "            \"Gender\": user.get_gender(),\n",
    "            \"City\": user.get_city(),\n",
    "            \"State\": user.get_state(),\n",
    "            \"Email\": user.get_email(),\n",
    "            \"DOB\": user.get_dob(),\n",
    "            \"Picture\": user.get_picture()\n",
    "            \n",
    "        })\n",
    "    return pd.DataFrame(users)"
   ]
  },
  {
   "cell_type": "code",
   "execution_count": 18,
   "id": "0ea864e0",
   "metadata": {},
   "outputs": [
    {
     "ename": "AttributeError",
     "evalue": "type object 'RandomUser' has no attribute 'generate'",
     "output_type": "error",
     "traceback": [
      "\u001b[0;31m---------------------------------------------------------------------------\u001b[0m",
      "\u001b[0;31mAttributeError\u001b[0m                            Traceback (most recent call last)",
      "\u001b[0;32m/var/folders/8t/8jn9xxcn7hz_qxw7hyvyq_7r0000gn/T/ipykernel_46747/3795369848.py\u001b[0m in \u001b[0;36m<module>\u001b[0;34m\u001b[0m\n\u001b[0;32m----> 1\u001b[0;31m \u001b[0mget_users\u001b[0m\u001b[0;34m(\u001b[0m\u001b[0;34m)\u001b[0m\u001b[0;34m\u001b[0m\u001b[0;34m\u001b[0m\u001b[0m\n\u001b[0m",
      "\u001b[0;32m/var/folders/8t/8jn9xxcn7hz_qxw7hyvyq_7r0000gn/T/ipykernel_46747/2150032034.py\u001b[0m in \u001b[0;36mget_users\u001b[0;34m()\u001b[0m\n\u001b[1;32m      2\u001b[0m     \u001b[0musers\u001b[0m\u001b[0;34m=\u001b[0m\u001b[0;34m[\u001b[0m\u001b[0;34m]\u001b[0m\u001b[0;34m\u001b[0m\u001b[0;34m\u001b[0m\u001b[0m\n\u001b[1;32m      3\u001b[0m \u001b[0;34m\u001b[0m\u001b[0m\n\u001b[0;32m----> 4\u001b[0;31m     \u001b[0;32mfor\u001b[0m \u001b[0musers\u001b[0m \u001b[0;32min\u001b[0m \u001b[0mRandomUser\u001b[0m\u001b[0;34m.\u001b[0m\u001b[0mgenerate\u001b[0m\u001b[0;34m.\u001b[0m\u001b[0musers\u001b[0m\u001b[0;34m(\u001b[0m\u001b[0;36m10\u001b[0m\u001b[0;34m)\u001b[0m\u001b[0;34m:\u001b[0m\u001b[0;34m\u001b[0m\u001b[0;34m\u001b[0m\u001b[0m\n\u001b[0m\u001b[1;32m      5\u001b[0m         users.append({\n\u001b[1;32m      6\u001b[0m             \u001b[0;34m\"Name\"\u001b[0m\u001b[0;34m:\u001b[0m\u001b[0muser\u001b[0m\u001b[0;34m.\u001b[0m\u001b[0mget\u001b[0m\u001b[0;34m.\u001b[0m\u001b[0mfull_name\u001b[0m\u001b[0;34m(\u001b[0m\u001b[0;34m)\u001b[0m\u001b[0;34m,\u001b[0m\u001b[0;34m\u001b[0m\u001b[0;34m\u001b[0m\u001b[0m\n",
      "\u001b[0;31mAttributeError\u001b[0m: type object 'RandomUser' has no attribute 'generate'"
     ]
    }
   ],
   "source": [
    "get_users()"
   ]
  },
  {
   "cell_type": "code",
   "execution_count": null,
   "id": "9f6f3ce7",
   "metadata": {},
   "outputs": [],
   "source": []
  }
 ],
 "metadata": {
  "kernelspec": {
   "display_name": "Python 3 (ipykernel)",
   "language": "python",
   "name": "python3"
  },
  "language_info": {
   "codemirror_mode": {
    "name": "ipython",
    "version": 3
   },
   "file_extension": ".py",
   "mimetype": "text/x-python",
   "name": "python",
   "nbconvert_exporter": "python",
   "pygments_lexer": "ipython3",
   "version": "3.9.13"
  }
 },
 "nbformat": 4,
 "nbformat_minor": 5
}
